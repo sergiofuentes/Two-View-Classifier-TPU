{
 "cells": [
  {
   "cell_type": "markdown",
   "id": "92cb46bf",
   "metadata": {},
   "source": [
    "# Patch Classifier\n",
    "This notebook was created to run on Kaggle using a TPU.\n",
    "\n",
    "The model created uses an EfficientNet-B0 pre-trained with ImageNet as a starting point.\n",
    "\n",
    "Datasets used:\n",
    "- CBIS-DDSM patches 224x224 in TFRecords format: https://www.kaggle.com/dsv/4400757 (DOI: 10.34740/kaggle/dsv/4400757)\n",
    "- CBIS-DDSM patches 448x448 in TFRecords format: https://www.kaggle.com/dsv/4465927 (DOI: 10.34740/kaggle/dsv/4465927)\n",
    "\t\n",
    "Change PATCH_SIZE and IMAGE_SIZE variables to use different resolutions matching the patch resolution in the dataset used"
   ]
  },
  {
   "cell_type": "code",
   "execution_count": null,
   "id": "c0c54e85",
   "metadata": {
    "_cell_guid": "b1076dfc-b9ad-4769-8c92-a6c4dae69d19",
    "_uuid": "8f2839f25d086af736a60e9eeb907d3b93b6e0e5",
    "execution": {
     "iopub.execute_input": "2022-12-03T20:51:15.806842Z",
     "iopub.status.busy": "2022-12-03T20:51:15.803802Z",
     "iopub.status.idle": "2022-12-03T20:51:21.667134Z",
     "shell.execute_reply": "2022-12-03T20:51:21.666322Z",
     "shell.execute_reply.started": "2022-12-03T20:14:31.136658Z"
    },
    "papermill": {
     "duration": 5.892227,
     "end_time": "2022-12-03T20:51:21.667288",
     "exception": false,
     "start_time": "2022-12-03T20:51:15.775061",
     "status": "completed"
    },
    "tags": []
   },
   "outputs": [],
   "source": [
    "# IMPORTS\n",
    "# This Python 3 environment comes with many helpful analytics libraries installed\n",
    "# It is defined by the kaggle/python Docker image: https://github.com/kaggle/docker-python\n",
    "# For example, here's several helpful packages to load\n",
    "\n",
    "import os\n",
    "import zipfile\n",
    "import numpy as np\n",
    "import tensorflow as tf\n",
    "import math\n",
    "import cv2\n",
    "\n",
    "from tensorflow.keras.applications import EfficientNetB0\n",
    "from tensorflow import keras\n",
    "from tensorflow.keras import layers\n",
    "from tensorflow.keras import regularizers\n",
    "from glob import glob\n",
    "\n",
    "# Input data files are available in the read-only \"../input/\" directory\n",
    "# For example, running this (by clicking run or pressing Shift+Enter) will list all files under the input directory\n",
    "\n",
    "import os\n",
    "import gc\n",
    "\n",
    "# You can write up to 20GB to the current directory (/kaggle/working/) that gets preserved as output when you create a version using \"Save & Run All\" \n",
    "# You can also write temporary files to /kaggle/temp/, but they won't be saved outside of the current session\n",
    "print(\"Rodei imports\")"
   ]
  },
  {
   "cell_type": "markdown",
   "id": "db3ba6ec",
   "metadata": {
    "papermill": {
     "duration": 0.020172,
     "end_time": "2022-12-03T20:51:21.709126",
     "exception": false,
     "start_time": "2022-12-03T20:51:21.688954",
     "status": "completed"
    },
    "tags": []
   },
   "source": [
    "# Obtain TPU"
   ]
  },
  {
   "cell_type": "code",
   "execution_count": null,
   "id": "ace138df",
   "metadata": {
    "execution": {
     "iopub.execute_input": "2022-12-03T20:51:21.755783Z",
     "iopub.status.busy": "2022-12-03T20:51:21.755262Z",
     "iopub.status.idle": "2022-12-03T20:51:27.833844Z",
     "shell.execute_reply": "2022-12-03T20:51:27.833381Z",
     "shell.execute_reply.started": "2022-12-03T20:14:38.299973Z"
    },
    "papermill": {
     "duration": 6.104494,
     "end_time": "2022-12-03T20:51:27.833965",
     "exception": false,
     "start_time": "2022-12-03T20:51:21.729471",
     "status": "completed"
    },
    "tags": []
   },
   "outputs": [],
   "source": [
    "# Detect TPU, return appropriate distribution strategy\n",
    "try:\n",
    "    tpu = tf.distribute.cluster_resolver.TPUClusterResolver() \n",
    "    print('Running on TPU ', tpu.master())\n",
    "except ValueError:\n",
    "    tpu = None\n",
    "\n",
    "if tpu:\n",
    "    tf.config.experimental_connect_to_cluster(tpu)\n",
    "    tf.tpu.experimental.initialize_tpu_system(tpu)\n",
    "    strategy = tf.distribute.experimental.TPUStrategy(tpu)\n",
    "else:\n",
    "    strategy = tf.distribute.get_strategy() \n",
    "\n",
    "print(\"REPLICAS: \", strategy.num_replicas_in_sync)"
   ]
  },
  {
   "cell_type": "markdown",
   "id": "a862c83c",
   "metadata": {
    "papermill": {
     "duration": 0.02026,
     "end_time": "2022-12-03T20:51:27.875018",
     "exception": false,
     "start_time": "2022-12-03T20:51:27.854758",
     "status": "completed"
    },
    "tags": []
   },
   "source": [
    "# Get GCS bucket"
   ]
  },
  {
   "cell_type": "code",
   "execution_count": null,
   "id": "6491fa3f",
   "metadata": {
    "execution": {
     "iopub.execute_input": "2022-12-03T20:51:27.928024Z",
     "iopub.status.busy": "2022-12-03T20:51:27.922943Z",
     "iopub.status.idle": "2022-12-03T20:51:29.826537Z",
     "shell.execute_reply": "2022-12-03T20:51:29.825878Z",
     "shell.execute_reply.started": "2022-12-03T20:14:44.408189Z"
    },
    "papermill": {
     "duration": 1.930741,
     "end_time": "2022-12-03T20:51:29.826689",
     "exception": false,
     "start_time": "2022-12-03T20:51:27.895948",
     "status": "completed"
    },
    "tags": []
   },
   "outputs": [],
   "source": [
    "# Simple test TPU\n",
    "# Step 1: Get the credential from the Cloud SDK\n",
    "from kaggle_secrets import UserSecretsClient\n",
    "user_secrets = UserSecretsClient()\n",
    "user_credential = user_secrets.get_gcloud_credential()\n",
    "print(\"Obtendo credentials\")\n",
    "# Step 2: Set the credentials\n",
    "user_secrets.set_tensorflow_credential(user_credential)\n",
    "print(\"Definindo credentials\")\n",
    "\n",
    "# Step 3: Use a familiar call to get the GCS path of the dataset\n",
    "from kaggle_datasets import KaggleDatasets\n",
    "# /kaggle/input/cbisddsmv2patchess10448tfrecords/data_cbis_patch_tfrecords_448\n",
    "#/kaggle/input/cbisddsmpatchesv2tfrecordspngv2/data_patches_s10_v2_tfrecords\n",
    "GCS_DS_PATH = KaggleDatasets().get_gcs_path()\n",
    "print(\"GCS_DS_PATH:\")\n",
    "print(GCS_DS_PATH)\n",
    "VALID_FILENAMES = tf.io.gfile.glob(GCS_DS_PATH+'/**')\n",
    "print(VALID_FILENAMES)\n"
   ]
  },
  {
   "cell_type": "code",
   "execution_count": null,
   "id": "c7a242b1",
   "metadata": {
    "execution": {
     "iopub.execute_input": "2022-12-03T20:51:29.877328Z",
     "iopub.status.busy": "2022-12-03T20:51:29.876615Z",
     "iopub.status.idle": "2022-12-03T20:51:29.922778Z",
     "shell.execute_reply": "2022-12-03T20:51:29.922332Z",
     "shell.execute_reply.started": "2022-12-03T20:14:50.230482Z"
    },
    "papermill": {
     "duration": 0.07273,
     "end_time": "2022-12-03T20:51:29.922910",
     "exception": false,
     "start_time": "2022-12-03T20:51:29.850180",
     "status": "completed"
    },
    "tags": []
   },
   "outputs": [],
   "source": [
    "#Read from bucket\n",
    "print(\"DEBUG: \"+ GCS_DS_PATH)\n",
    "# ../input/cbisddsmv2patchess10448tfrecords/data_cbis_patch_tfrecords_448/test\n",
    "files = tf.io.gfile.glob(GCS_DS_PATH+'/data_cbis_patch_tfrecords_448/test/**')\n",
    "print(len(files))"
   ]
  },
  {
   "cell_type": "markdown",
   "id": "d0bb01ad",
   "metadata": {
    "papermill": {
     "duration": 0.021612,
     "end_time": "2022-12-03T20:51:29.966303",
     "exception": false,
     "start_time": "2022-12-03T20:51:29.944691",
     "status": "completed"
    },
    "tags": []
   },
   "source": [
    "# Get datasets"
   ]
  },
  {
   "cell_type": "code",
   "execution_count": null,
   "id": "169ed353",
   "metadata": {
    "execution": {
     "iopub.execute_input": "2022-12-03T20:51:30.015036Z",
     "iopub.status.busy": "2022-12-03T20:51:30.014457Z",
     "iopub.status.idle": "2022-12-03T20:51:30.134652Z",
     "shell.execute_reply": "2022-12-03T20:51:30.134159Z",
     "shell.execute_reply.started": "2022-12-03T20:14:50.329757Z"
    },
    "papermill": {
     "duration": 0.146887,
     "end_time": "2022-12-03T20:51:30.134801",
     "exception": false,
     "start_time": "2022-12-03T20:51:29.987914",
     "status": "completed"
    },
    "tags": []
   },
   "outputs": [],
   "source": [
    "BATCH_SIZE = 32 * strategy.num_replicas_in_sync\n",
    "# Uncomment for 448x448 resolution\n",
    "TRAINING_FILENAMES = tf.io.gfile.glob(GCS_DS_PATH+'/data_cbis_patch_tfrecords_448/train/train_??-32??.tfrec')\n",
    "VALIDATION_FILENAMES = tf.io.gfile.glob(GCS_DS_PATH+'/data_cbis_patch_tfrecords_448/validation/validation_??-35?.tfrec')\n",
    "TEST_FILENAMES = tf.io.gfile.glob(GCS_DS_PATH+'/data_cbis_patch_tfrecords_448/test/test_??-880.tfrec')\n",
    "# Uncomment for 224x224 resolution\n",
    "# TRAINING_FILENAMES = tf.io.gfile.glob(GCS_DS_PATH+'/data_patches_s10_v2_tfrecords/train/train_??-32??.tfrec')\n",
    "# VALIDATION_FILENAMES = tf.io.gfile.glob(GCS_DS_PATH+'/data_patches_s10_v2_tfrecords/validation/validation_??-35?.tfrec')\n",
    "# TEST_FILENAMES = tf.io.gfile.glob(GCS_DS_PATH+'/data_patches_s10_v2_tfrecords/test/test_??-880.tfrec')\n",
    "AUTO = tf.data.experimental.AUTOTUNE\n",
    "IMAGE_SIZE = [448, 448]\n",
    "# IMAGE_SIZE = [224, 224]\n",
    "print(\"BATCH_SIZE, AUTO and IMAGE_SIZE defined\")"
   ]
  },
  {
   "cell_type": "code",
   "execution_count": null,
   "id": "48a2c030",
   "metadata": {
    "execution": {
     "iopub.execute_input": "2022-12-03T20:51:30.393490Z",
     "iopub.status.busy": "2022-12-03T20:51:30.392732Z",
     "iopub.status.idle": "2022-12-03T20:51:30.407612Z",
     "shell.execute_reply": "2022-12-03T20:51:30.406962Z",
     "shell.execute_reply.started": "2022-12-03T20:14:50.816369Z"
    },
    "papermill": {
     "duration": 0.046184,
     "end_time": "2022-12-03T20:51:30.407760",
     "exception": false,
     "start_time": "2022-12-03T20:51:30.361576",
     "status": "completed"
    },
    "tags": []
   },
   "outputs": [],
   "source": [
    "# Helper methods\n",
    "#Ler datasets em tfrecord\n",
    "def decode_image(image_data):\n",
    "    PATCH_SIZE = 448\n",
    "    # DECODIFICAR A IMAGEM\n",
    "    # Get 16 bit gray scalar tf.io.parse_tensor\n",
    "    image = tf.image.decode_png(image_data, channels=1, dtype=tf.uint16)\n",
    "    sh = tf.shape(image)\n",
    "    r = sh[0]\n",
    "    c = sh[1]\n",
    "    image = tf.cast(image, tf.float32)\n",
    "    if(r != PATCH_SIZE or c != PATCH_SIZE):\n",
    "        tf.print(sh)\n",
    "        image = tf.image.resize(image, (PATCH_SIZE,PATCH_SIZE))\n",
    "    image = tf.reshape(image, [PATCH_SIZE,PATCH_SIZE,1])\n",
    "    return image\n",
    "\n",
    "def read_labeled_tfrecord(example):\n",
    "    LABELED_TFREC_FORMAT = {\n",
    "        \"image\": tf.io.FixedLenFeature([], tf.string), # tf.string means bytestring\n",
    "        \"label\": tf.io.FixedLenFeature([], tf.int64),  # shape [] means single element\n",
    "    }\n",
    "    example = tf.io.parse_single_example(example, LABELED_TFREC_FORMAT)\n",
    "    image = decode_image(example['image'])\n",
    "    label = tf.cast(example['label'], tf.int32)\n",
    "    return image, label # returns a dataset of (image, label) pairs\n",
    "\n",
    "def read_unlabeled_tfrecord(example):\n",
    "    UNLABELED_TFREC_FORMAT = {\n",
    "        \"image\": tf.io.FixedLenFeature([], tf.string), # tf.string means bytestring\n",
    "        \"label\": tf.io.FixedLenFeature([], tf.int64),  # shape [] means single element\n",
    "        # class is missing, this competitions's challenge is to predict flower classes for the test dataset\n",
    "    }\n",
    "    example = tf.io.parse_single_example(example, UNLABELED_TFREC_FORMAT)\n",
    "    image = decode_image(example['image'])\n",
    "    idnum = example['label']\n",
    "    return image, idnum # returns a dataset of image(s)\n",
    "\n",
    "def load_dataset(filenames, labeled=True, ordered=False):\n",
    "    # Read from TFRecords. For optimal performance, reading from multiple files at once and\n",
    "    # disregarding data order. Order does not matter since we will be shuffling the data anyway.\n",
    "\n",
    "    ignore_order = tf.data.Options()\n",
    "    if not ordered:\n",
    "        ignore_order.experimental_deterministic = False # disable order, increase speed\n",
    "\n",
    "    dataset = tf.data.TFRecordDataset(filenames, num_parallel_reads=AUTO) # automatically interleaves reads from multiple files\n",
    "    dataset = dataset.with_options(ignore_order) # uses data as soon as it streams in, rather than in its original order\n",
    "    dataset = dataset.map(read_labeled_tfrecord if labeled else read_unlabeled_tfrecord, num_parallel_calls=AUTO)\n",
    "    # returns a dataset of (image, label) pairs if labeled=True or (image, id) pairs if labeled=False\n",
    "    return dataset\n",
    "def data_augment(image, label):\n",
    "    # Thanks to the dataset.prefetch(AUTO)\n",
    "    # statement in the next function (below), this happens essentially\n",
    "    # for free on TPU. Data pipeline code is executed on the \"CPU\"\n",
    "    # part of the TPU while the TPU itself is computing gradients.\n",
    "    image = tf.image.random_flip_left_right(image)\n",
    "    image = tf.image.random_flip_up_down(image)\n",
    "    return image, label   \n",
    "\n",
    "def subtract_mean(image):\n",
    "    TRAINING_MEAN = 21678\n",
    "    TRAINING_VAR = 69225734.9022153\n",
    "    image = image - TRAINING_MEAN\n",
    "    return image\n",
    "\n",
    "def one_to_three_channels(image):\n",
    "    image = tf.repeat(image, repeats=3, axis=2)\n",
    "    return image\n",
    "\n",
    "def normalize_for_model(image):\n",
    "    SCALE = 257.0 #pixels [0.0, 255.0]\n",
    "    return image/SCALE\n",
    "\n",
    "def adjust_for_model_input(image, label):\n",
    "    image = subtract_mean(image)\n",
    "    image = normalize_for_model(image)\n",
    "    image = one_to_three_channels(image)\n",
    "    return image, label\n",
    "\n",
    "def get_training_dataset():\n",
    "    print(\"CREATING TRAINING DATASET\")\n",
    "    dataset = load_dataset(TRAINING_FILENAMES, labeled=True)\n",
    "    print(\"Data augmentation\")\n",
    "    dataset = dataset.map(data_augment, num_parallel_calls=AUTO)\n",
    "    dataset = dataset.map(adjust_for_model_input, num_parallel_calls=AUTO)\n",
    "    dataset = dataset.batch(BATCH_SIZE, drop_remainder=True)\n",
    "    dataset = dataset.prefetch(AUTO) # prefetch next batch while training (autotune prefetch buffer size)\n",
    "    return dataset\n",
    "\n",
    "def get_validation_dataset(ordered=False):\n",
    "    dataset = load_dataset(VALIDATION_FILENAMES, labeled=True, ordered=ordered)\n",
    "    dataset = dataset.map(adjust_for_model_input, num_parallel_calls=AUTO)\n",
    "    dataset = dataset.batch(BATCH_SIZE, drop_remainder=True)\n",
    "    dataset = dataset.prefetch(AUTO) # prefetch next batch while training (autotune prefetch buffer size)\n",
    "    return dataset\n",
    "\n",
    "def get_test_dataset(ordered=False):\n",
    "    dataset = load_dataset(TEST_FILENAMES, labeled=True, ordered=ordered)\n",
    "    dataset = dataset.map(adjust_for_model_input, num_parallel_calls=AUTO)\n",
    "    dataset = dataset.batch(BATCH_SIZE, drop_remainder=True)\n",
    "    dataset = dataset.prefetch(AUTO) # prefetch next batch while training (autotune prefetch buffer size)\n",
    "    return dataset\n",
    "print(\"Helper methods to load datasets ready\")"
   ]
  },
  {
   "cell_type": "code",
   "execution_count": null,
   "id": "03ceeb12",
   "metadata": {
    "execution": {
     "iopub.execute_input": "2022-12-03T20:51:30.458011Z",
     "iopub.status.busy": "2022-12-03T20:51:30.456873Z",
     "iopub.status.idle": "2022-12-03T20:51:30.956541Z",
     "shell.execute_reply": "2022-12-03T20:51:30.955177Z",
     "shell.execute_reply.started": "2022-12-03T20:14:50.843466Z"
    },
    "papermill": {
     "duration": 0.526379,
     "end_time": "2022-12-03T20:51:30.956743",
     "exception": false,
     "start_time": "2022-12-03T20:51:30.430364",
     "status": "completed"
    },
    "tags": []
   },
   "outputs": [],
   "source": [
    "# Ler datasets\n",
    "ds_train = get_training_dataset()\n",
    "ds_valid = get_validation_dataset()\n",
    "print(\"Datasets de treino e validação lidos\")"
   ]
  },
  {
   "cell_type": "code",
   "execution_count": null,
   "id": "41c2f0ed",
   "metadata": {
    "execution": {
     "iopub.execute_input": "2022-12-03T20:51:31.008645Z",
     "iopub.status.busy": "2022-12-03T20:51:31.007988Z",
     "iopub.status.idle": "2022-12-03T20:51:40.520980Z",
     "shell.execute_reply": "2022-12-03T20:51:40.519232Z",
     "shell.execute_reply.started": "2022-12-03T20:14:51.393209Z"
    },
    "papermill": {
     "duration": 9.540063,
     "end_time": "2022-12-03T20:51:40.521220",
     "exception": false,
     "start_time": "2022-12-03T20:51:30.981157",
     "status": "completed"
    },
    "tags": []
   },
   "outputs": [],
   "source": [
    "# Test Datasets data\n",
    "import re\n",
    "def count_data_items(filenames):\n",
    "    # the number of data items is written in the name of the .tfrec\n",
    "    n = [int(re.compile(r\"-([0-9]*)\\.\").search(filename).group(1)) for filename in filenames]\n",
    "    return np.sum(n)\n",
    "\n",
    "print(\"Training data shapes:\")\n",
    "cont = 0\n",
    "for image, label in ds_train.take(3):\n",
    "    print(image.numpy().shape, label.numpy().shape)\n",
    "print(cont)\n",
    "print(\"###################################\")\n",
    "NUM_TRAINING_IMAGES = count_data_items(TRAINING_FILENAMES)\n",
    "NUM_VALIDATION_IMAGES = count_data_items(VALIDATION_FILENAMES)\n",
    "NUM_TEST_IMAGES = count_data_items(TEST_FILENAMES)\n",
    "print('Dataset: {} training images, {} validation images, {} unlabeled test images'.format(NUM_TRAINING_IMAGES, NUM_VALIDATION_IMAGES, NUM_TEST_IMAGES))"
   ]
  },
  {
   "cell_type": "markdown",
   "id": "f15a83ad",
   "metadata": {
    "papermill": {
     "duration": 0.067142,
     "end_time": "2022-12-03T20:51:40.653922",
     "exception": false,
     "start_time": "2022-12-03T20:51:40.586780",
     "status": "completed"
    },
    "tags": []
   },
   "source": [
    "# Train model"
   ]
  },
  {
   "cell_type": "code",
   "execution_count": null,
   "id": "4268de41",
   "metadata": {
    "execution": {
     "iopub.execute_input": "2022-12-03T20:51:40.806770Z",
     "iopub.status.busy": "2022-12-03T20:51:40.804073Z",
     "iopub.status.idle": "2022-12-03T20:51:40.813861Z",
     "shell.execute_reply": "2022-12-03T20:51:40.814867Z",
     "shell.execute_reply.started": "2022-12-03T20:15:04.726317Z"
    },
    "papermill": {
     "duration": 0.094821,
     "end_time": "2022-12-03T20:51:40.815220",
     "exception": false,
     "start_time": "2022-12-03T20:51:40.720399",
     "status": "completed"
    },
    "tags": []
   },
   "outputs": [],
   "source": [
    "# Model definition\n",
    "def get_model():\n",
    "    DENSE_KERNEL_INITIALIZER = {\n",
    "        'class_name': 'VarianceScaling',\n",
    "        'config': {\n",
    "            'scale': 1. / 3.,\n",
    "            'mode': 'fan_out',\n",
    "            'distribution': 'uniform'\n",
    "        }\n",
    "    }\n",
    "    pretrained_model = EfficientNetB0(weights='imagenet', include_top=False)\n",
    "    pretrained_model.trainable = True\n",
    "    model = tf.keras.Sequential([\n",
    "        pretrained_model,\n",
    "        layers.GlobalAveragePooling2D(),\n",
    "        layers.Dropout(0.2),\n",
    "        layers.Dense(units=5, activation='softmax',kernel_initializer=DENSE_KERNEL_INITIALIZER)\n",
    "\n",
    "    ])\n",
    "    return model\n",
    "print(\"Model ready to be used\")"
   ]
  },
  {
   "cell_type": "code",
   "execution_count": null,
   "id": "8ac8f7a0",
   "metadata": {
    "execution": {
     "iopub.execute_input": "2022-12-03T20:51:40.974929Z",
     "iopub.status.busy": "2022-12-03T20:51:40.970407Z",
     "iopub.status.idle": "2022-12-03T20:51:41.686675Z",
     "shell.execute_reply": "2022-12-03T20:51:41.687974Z",
     "shell.execute_reply.started": "2022-12-03T20:15:04.735499Z"
    },
    "papermill": {
     "duration": 0.800761,
     "end_time": "2022-12-03T20:51:41.688498",
     "exception": false,
     "start_time": "2022-12-03T20:51:40.887737",
     "status": "completed"
    },
    "tags": []
   },
   "outputs": [],
   "source": [
    "# My Learning Rate 1\n",
    "import math\n",
    "from matplotlib import pyplot as plt\n",
    "def cosine_and_warmup_lr(epoch, \n",
    "                        start_lr = 0.000002,\n",
    "                        base = 0.0001,\n",
    "                        warmup_epochs = 4,\n",
    "                        period = 3,\n",
    "                        delta = 0.0002):\n",
    "    def lr(epoch, warmup_epochs, period, delta, base):\n",
    "        if(epoch < warmup_epochs):\n",
    "            if epoch < 1:\n",
    "                lr = base*(1)/warmup_epochs\n",
    "            else:\n",
    "                lr = base*(epoch)/warmup_epochs\n",
    "            print(base)\n",
    "            print(epoch)\n",
    "            print(warmup_epochs)\n",
    "            print(lr)\n",
    "        else:\n",
    "            lr = 0.5*delta*(1+tf.math.cos((epoch - warmup_epochs)*math.pi/period))+base-delta/2\n",
    "        return lr\n",
    "    return lr(epoch,\n",
    "             warmup_epochs,\n",
    "             period,\n",
    "             delta,\n",
    "             base)\n",
    "    \n",
    "lr_callback = tf.keras.callbacks.LearningRateScheduler(cosine_and_warmup_lr, verbose=True)\n",
    "rng = [i for i in range(1,30)]\n",
    "y = [cosine_and_warmup_lr(x) for x in rng]\n",
    "plt.plot(rng, y)\n",
    "print(\"Learning rate schedule: {:.3g} to {:.3g} to {:.3g}\".format(y[0], max(y), y[-1]))"
   ]
  },
  {
   "cell_type": "code",
   "execution_count": null,
   "id": "9af50e33",
   "metadata": {
    "execution": {
     "iopub.execute_input": "2022-12-03T20:51:41.813824Z",
     "iopub.status.busy": "2022-12-03T20:51:41.813137Z",
     "iopub.status.idle": "2022-12-03T20:51:55.035897Z",
     "shell.execute_reply": "2022-12-03T20:51:55.035277Z",
     "shell.execute_reply.started": "2022-12-03T20:15:05.173663Z"
    },
    "papermill": {
     "duration": 13.270437,
     "end_time": "2022-12-03T20:51:55.036173",
     "exception": false,
     "start_time": "2022-12-03T20:51:41.765736",
     "status": "completed"
    },
    "tags": []
   },
   "outputs": [],
   "source": [
    "\n",
    "with strategy.scope():\n",
    "    # Build model\n",
    "    model = get_model()\n",
    "    optimizer = tf.keras.optimizers.Adam(learning_rate=1e-4) # Adam LR=1e-4, delta=2e-4, period=EPOCHS/10, warmp=4\n",
    "    metrics = ['sparse_categorical_accuracy']\n",
    "    \n",
    "    model.compile(\n",
    "        optimizer = optimizer,\n",
    "        loss = 'sparse_categorical_crossentropy',#CrossEntropyLoss\n",
    "        metrics = metrics,\n",
    "    )\n",
    "model.summary()"
   ]
  },
  {
   "cell_type": "code",
   "execution_count": null,
   "id": "d5ab4cb6",
   "metadata": {
    "execution": {
     "iopub.execute_input": "2022-12-03T20:51:55.100238Z",
     "iopub.status.busy": "2022-12-03T20:51:55.099590Z",
     "iopub.status.idle": "2022-12-03T21:18:08.851754Z",
     "shell.execute_reply": "2022-12-03T21:18:08.852219Z",
     "shell.execute_reply.started": "2022-12-03T20:15:18.712915Z"
    },
    "papermill": {
     "duration": 1573.787734,
     "end_time": "2022-12-03T21:18:08.852400",
     "exception": false,
     "start_time": "2022-12-03T20:51:55.064666",
     "status": "completed"
    },
    "tags": []
   },
   "outputs": [],
   "source": [
    "# Training\n",
    "# Learning Rate\n",
    "# Fit Model\n",
    "epochs = 30\n",
    "batch_size = BATCH_SIZE\n",
    "history = model.fit(\n",
    "    ds_train,\n",
    "    validation_data=ds_valid,\n",
    "    epochs=epochs,\n",
    "    batch_size=batch_size,\n",
    "    shuffle=True,\n",
    "    verbose=1,\n",
    "    callbacks=[lr_callback],\n",
    ")"
   ]
  },
  {
   "cell_type": "code",
   "execution_count": null,
   "id": "9fbbc227",
   "metadata": {
    "execution": {
     "iopub.execute_input": "2022-12-03T21:18:12.041454Z",
     "iopub.status.busy": "2022-12-03T21:18:12.040848Z",
     "iopub.status.idle": "2022-12-03T21:18:12.044943Z",
     "shell.execute_reply": "2022-12-03T21:18:12.045444Z",
     "shell.execute_reply.started": "2022-12-03T20:41:45.611319Z"
    },
    "papermill": {
     "duration": 1.617765,
     "end_time": "2022-12-03T21:18:12.045616",
     "exception": false,
     "start_time": "2022-12-03T21:18:10.427851",
     "status": "completed"
    },
    "tags": []
   },
   "outputs": [],
   "source": [
    "print(\"Verificando acurácia durante treinamento\")\n",
    "print(history.history.keys())"
   ]
  },
  {
   "cell_type": "code",
   "execution_count": null,
   "id": "76699db1",
   "metadata": {
    "execution": {
     "iopub.execute_input": "2022-12-03T21:18:15.182326Z",
     "iopub.status.busy": "2022-12-03T21:18:15.181538Z",
     "iopub.status.idle": "2022-12-03T21:18:16.006775Z",
     "shell.execute_reply": "2022-12-03T21:18:16.006282Z",
     "shell.execute_reply.started": "2022-12-03T20:41:45.617724Z"
    },
    "papermill": {
     "duration": 2.398069,
     "end_time": "2022-12-03T21:18:16.006908",
     "exception": false,
     "start_time": "2022-12-03T21:18:13.608839",
     "status": "completed"
    },
    "tags": []
   },
   "outputs": [],
   "source": [
    "print(\"Calculating the accuracy\")\n",
    "acc = history.history['sparse_categorical_accuracy']\n",
    "val_acc = history.history['val_sparse_categorical_accuracy']\n",
    "print(\"Calculating the loss\")\n",
    "loss = history.history['loss']\n",
    "val_loss = history.history['val_loss']\n",
    "print(\"Calculating learning rate\")\n",
    "lr_gr = history.history['lr']\n",
    "epochs_range = range(epochs)\n",
    "print(\"The results are being visualized\")\n",
    "plt.figure(figsize=(20, 60))\n",
    "# Acuracia\n",
    "plt.subplot(3, 1, 1)\n",
    "plt.plot(epochs_range, acc, label='Treino')\n",
    "plt.plot(epochs_range, val_acc, label='Validação')\n",
    "plt.legend(loc='lower right')\n",
    "plt.title('Acurácia de treino e validação')\n",
    "#Loss\n",
    "plt.subplot(3, 1, 2)\n",
    "plt.plot(epochs_range, loss, label='Treino')\n",
    "plt.plot(epochs_range, val_loss, label='Validação')\n",
    "plt.legend(loc='upper right')\n",
    "plt.title('Perda de treino e validação')\n",
    "#Learning rate\n",
    "plt.subplot(3, 1, 3)\n",
    "plt.plot(epochs_range, lr_gr, label='lr')\n",
    "plt.legend(loc='upper right')\n",
    "plt.title('Taxa de Aprendizagem')\n",
    "plt.show()"
   ]
  },
  {
   "cell_type": "markdown",
   "id": "8336cfe6",
   "metadata": {
    "papermill": {
     "duration": 1.615885,
     "end_time": "2022-12-03T21:18:19.174776",
     "exception": false,
     "start_time": "2022-12-03T21:18:17.558891",
     "status": "completed"
    },
    "tags": []
   },
   "source": [
    "# Test model"
   ]
  },
  {
   "cell_type": "code",
   "execution_count": null,
   "id": "8399b7e8",
   "metadata": {
    "execution": {
     "iopub.execute_input": "2022-12-03T21:18:22.278073Z",
     "iopub.status.busy": "2022-12-03T21:18:22.277207Z",
     "iopub.status.idle": "2022-12-03T21:18:23.023503Z",
     "shell.execute_reply": "2022-12-03T21:18:23.023959Z",
     "shell.execute_reply.started": "2022-12-03T20:41:46.440825Z"
    },
    "papermill": {
     "duration": 2.308732,
     "end_time": "2022-12-03T21:18:23.024177",
     "exception": false,
     "start_time": "2022-12-03T21:18:20.715445",
     "status": "completed"
    },
    "tags": []
   },
   "outputs": [],
   "source": [
    "# Cleaning RAM\n",
    "import gc\n",
    "print(\"Limpando RAM antes de rodar testes\")\n",
    "ds_train = None\n",
    "ds_valid = None\n",
    "del ds_train\n",
    "del ds_valid\n",
    "gc.collect()"
   ]
  },
  {
   "cell_type": "code",
   "execution_count": null,
   "id": "8f5acf9c",
   "metadata": {
    "execution": {
     "iopub.execute_input": "2022-12-03T21:18:26.221952Z",
     "iopub.status.busy": "2022-12-03T21:18:26.221138Z",
     "iopub.status.idle": "2022-12-03T21:19:49.118750Z",
     "shell.execute_reply": "2022-12-03T21:19:49.118246Z",
     "shell.execute_reply.started": "2022-12-03T20:41:47.271444Z"
    },
    "papermill": {
     "duration": 84.549749,
     "end_time": "2022-12-03T21:19:49.118885",
     "exception": false,
     "start_time": "2022-12-03T21:18:24.569136",
     "status": "completed"
    },
    "tags": []
   },
   "outputs": [],
   "source": [
    "from sklearn.metrics import confusion_matrix\n",
    "import gc\n",
    "from collections import Counter\n",
    "\n",
    "def data_visualization(matrix):\n",
    "    num_cases = 0\n",
    "    total_per_class = [0,0,0,0,0]\n",
    "    for i in range(5):\n",
    "        for j in range(5):\n",
    "            num_cases = num_cases+matrix[i,j]\n",
    "            total_per_class[i] = total_per_class[i] + matrix[i,j]\n",
    "    for i in range(5):\n",
    "        print(\"Classe: \",i)\n",
    "        print(\"Elementos dessa classe: \", total_per_class[i])\n",
    "        print(\"Acertos: \", matrix[i,i])\n",
    "        print(\"% erro: \", (total_per_class[i]-matrix[i,i])/total_per_class[i])\n",
    "        \n",
    "dataset = get_test_dataset()\n",
    "score = model.evaluate(dataset)\n",
    "print('Test loss:', score[0])\n",
    "print('Test accuracy:', score[1])\n",
    "hits = 0\n",
    "last_acc_hit = 0\n",
    "dataset = dataset.unbatch().batch(BATCH_SIZE)\n",
    "batch = iter(dataset)\n",
    "NUM_BATCH = 14080//BATCH_SIZE\n",
    "cf_matrix = np.zeros([5,5])\n",
    "n_correct_batches = 0\n",
    "for i in range(NUM_BATCH):\n",
    "    last_acc_hit = hits\n",
    "    images, labels = next(batch)\n",
    "    probabilities = model.predict(images)\n",
    "    predictions = np.argmax(probabilities, axis=-1)\n",
    "    labels_np = labels.numpy().astype(np.int64)\n",
    "    print_batch = False\n",
    "    for i in range(BATCH_SIZE):\n",
    "        if(predictions[i] == labels_np[i]):\n",
    "            hits = hits + 1\n",
    "        else:\n",
    "            print_batch = True\n",
    "    if(print_batch):\n",
    "        print((hits-last_acc_hit)/BATCH_SIZE)\n",
    "    else:\n",
    "        n_correct_batches = n_correct_batches + 1\n",
    "    cf_batch_matrix = confusion_matrix(labels_np, predictions, labels=[0,1,2,3,4])\n",
    "    cf_matrix = cf_matrix + cf_batch_matrix\n",
    "    \n",
    "print(probabilities)\n",
    "print(\"Correct batches\")\n",
    "print(n_correct_batches)\n",
    "print(\"Accuracy\")\n",
    "print(hits/(NUM_BATCH*BATCH_SIZE))\n",
    "print(cf_matrix)\n",
    "data_visualization(cf_matrix)\n",
    "import seaborn as sns\n",
    "import matplotlib.pyplot as plt\n",
    "plt.figure(figsize=(15, 15))\n",
    "ax = sns.heatmap(cf_matrix, annot=True, cmap='Blues', fmt='.4g')\n",
    "\n",
    "ax.set_title('Matriz de Confusão de Classificador de Patch\\n\\n');\n",
    "ax.set_xlabel('\\nClasses Preditas')\n",
    "ax.set_ylabel('Classes Reais ');\n",
    "\n",
    "## Ticket labels - List must be in alphabetical order\n",
    "ax.xaxis.set_ticklabels(['Fundo','Calc. Ben.', 'Calc. Mal.','Massa Ben.','Massa Mal.'])\n",
    "plt.yticks(rotation=0)\n",
    "sns.set(font_scale=1.6)\n",
    "ax.yaxis.set_ticklabels(['Fundo','Calc. Ben.', 'Calc. Mal.','Massa Ben.','Massa Mal.'])\n",
    "\n",
    "## Display the visualization of the Confusion Matrix.\n",
    "plt.show()"
   ]
  },
  {
   "cell_type": "code",
   "execution_count": null,
   "id": "6ce8f901",
   "metadata": {
    "execution": {
     "iopub.execute_input": "2022-12-03T21:19:52.348461Z",
     "iopub.status.busy": "2022-12-03T21:19:52.347950Z",
     "iopub.status.idle": "2022-12-03T21:19:55.267649Z",
     "shell.execute_reply": "2022-12-03T21:19:55.266673Z",
     "shell.execute_reply.started": "2022-12-03T20:43:12.291684Z"
    },
    "papermill": {
     "duration": 4.550476,
     "end_time": "2022-12-03T21:19:55.267800",
     "exception": false,
     "start_time": "2022-12-03T21:19:50.717324",
     "status": "completed"
    },
    "tags": []
   },
   "outputs": [],
   "source": [
    "# Save model\n",
    "model.save(\"patch_classifier_tpu_448.h5\")"
   ]
  },
  {
   "cell_type": "code",
   "execution_count": null,
   "id": "1635f5a3",
   "metadata": {
    "execution": {
     "iopub.execute_input": "2022-12-03T21:19:58.482074Z",
     "iopub.status.busy": "2022-12-03T21:19:58.481304Z",
     "iopub.status.idle": "2022-12-03T21:20:14.857070Z",
     "shell.execute_reply": "2022-12-03T21:20:14.856412Z",
     "shell.execute_reply.started": "2022-12-03T20:43:15.227807Z"
    },
    "papermill": {
     "duration": 17.979075,
     "end_time": "2022-12-03T21:20:14.857255",
     "exception": false,
     "start_time": "2022-12-03T21:19:56.878180",
     "status": "completed"
    },
    "tags": []
   },
   "outputs": [],
   "source": [
    "from tensorflow.keras.models import load_model\n",
    "with strategy.scope():\n",
    "    test_model = load_model(\"patch_classifier_tpu_448.h5\")"
   ]
  },
  {
   "cell_type": "code",
   "execution_count": null,
   "id": "091c7131",
   "metadata": {
    "execution": {
     "iopub.execute_input": "2022-12-03T21:20:18.116459Z",
     "iopub.status.busy": "2022-12-03T21:20:18.115767Z",
     "iopub.status.idle": "2022-12-03T21:22:13.154311Z",
     "shell.execute_reply": "2022-12-03T21:22:13.153815Z",
     "shell.execute_reply.started": "2022-12-03T20:43:32.163104Z"
    },
    "papermill": {
     "duration": 116.685089,
     "end_time": "2022-12-03T21:22:13.154438",
     "exception": false,
     "start_time": "2022-12-03T21:20:16.469349",
     "status": "completed"
    },
    "tags": []
   },
   "outputs": [],
   "source": [
    "score = test_model.evaluate(dataset)\n",
    "print('Test loss:', score[0])\n",
    "print('Test accuracy:', score[1])\n",
    "hits = 0\n",
    "last_acc_hit = 0\n",
    "dataset = dataset.unbatch().batch(BATCH_SIZE)\n",
    "batch = iter(dataset)\n",
    "NUM_BATCH = 14080//BATCH_SIZE\n",
    "cf_matrix = np.zeros([5,5])\n",
    "n_correct_batches = 0\n",
    "for i in range(NUM_BATCH):\n",
    "    last_acc_hit = hits\n",
    "    images, labels = next(batch)\n",
    "    probabilities = test_model.predict(images)\n",
    "    predictions = np.argmax(probabilities, axis=-1)\n",
    "    labels_np = labels.numpy().astype(np.int64)\n",
    "    print_batch = False\n",
    "    for i in range(BATCH_SIZE):\n",
    "        if(predictions[i] == labels_np[i]):\n",
    "            hits = hits + 1\n",
    "        else:\n",
    "            print_batch = True\n",
    "    if(print_batch):\n",
    "        print((hits-last_acc_hit)/BATCH_SIZE)\n",
    "    else:\n",
    "        n_correct_batches = n_correct_batches + 1\n",
    "    cf_batch_matrix = confusion_matrix(labels_np, predictions, labels=[0,1,2,3,4])\n",
    "    cf_matrix = cf_matrix + cf_batch_matrix\n",
    "    \n",
    "print(probabilities)\n",
    "print(\"Correct batches\")\n",
    "print(n_correct_batches)\n",
    "print(\"Accuracy\")\n",
    "print(hits/(NUM_BATCH*BATCH_SIZE))\n",
    "print(cf_matrix)\n",
    "data_visualization(cf_matrix)\n",
    "import seaborn as sns\n",
    "import matplotlib.pyplot as plt\n",
    "plt.figure(figsize=(15, 15))\n",
    "ax = sns.heatmap(cf_matrix, annot=True, cmap='Blues', fmt='.4g')\n",
    "\n",
    "ax.set_title('Matriz de Confusão de Classificador de Patch\\n\\n');\n",
    "ax.set_xlabel('\\nClasses Preditas')\n",
    "ax.set_ylabel('Classes Reais ');\n",
    "\n",
    "## Ticket labels - List must be in alphabetical order\n",
    "ax.xaxis.set_ticklabels(['Fundo','Calc. Ben.', 'Calc. Mal.','Massa Ben.','Massa Mal.'])\n",
    "plt.yticks(rotation=0)\n",
    "sns.set(font_scale=1.6)\n",
    "ax.yaxis.set_ticklabels(['Fundo','Calc. Ben.', 'Calc. Mal.','Massa Ben.','Massa Mal.'])\n",
    "\n",
    "## Display the visualization of the Confusion Matrix.\n",
    "plt.show()"
   ]
  },
  {
   "cell_type": "markdown",
   "id": "38e6c127",
   "metadata": {
    "papermill": {
     "duration": 1.616494,
     "end_time": "2022-12-03T21:22:26.328263",
     "exception": false,
     "start_time": "2022-12-03T21:22:24.711769",
     "status": "completed"
    },
    "tags": []
   },
   "source": []
  }
 ],
 "metadata": {
  "kernelspec": {
   "display_name": "Python 3",
   "language": "python",
   "name": "python3"
  },
  "language_info": {
   "codemirror_mode": {
    "name": "ipython",
    "version": 3
   },
   "file_extension": ".py",
   "mimetype": "text/x-python",
   "name": "python",
   "nbconvert_exporter": "python",
   "pygments_lexer": "ipython3",
   "version": "3.7.10"
  },
  "papermill": {
   "default_parameters": {},
   "duration": 1882.052032,
   "end_time": "2022-12-03T21:22:30.831723",
   "environment_variables": {},
   "exception": null,
   "input_path": "__notebook__.ipynb",
   "output_path": "__notebook__.ipynb",
   "parameters": {},
   "start_time": "2022-12-03T20:51:08.779691",
   "version": "2.3.3"
  }
 },
 "nbformat": 4,
 "nbformat_minor": 5
}
