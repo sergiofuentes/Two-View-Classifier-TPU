{
 "cells": [
  {
   "cell_type": "markdown",
   "id": "39bf3479",
   "metadata": {},
   "source": [
    "# One View Classifier\n",
    "This notebook was created to run on Kaggle using a TPU.\n",
    "\n",
    "The model created uses a Patch Classifier Model as a starting point.\n",
    "\n",
    "Datasets used:\n",
    "- CBIS-DDSM One Views in TFRecords format: https://www.kaggle.com/dsv/4429171 (DOI: 10.34740/kaggle/dsv/4429171)\n",
    "\t\n",
    "Change HEIGHT and WIDTH variables to use different resolutions and use Patch Classifier trained in a resolution that mantains the proportion 224x224 patch and mammogram 1152x896."
   ]
  },
  {
   "cell_type": "code",
   "execution_count": null,
   "id": "f954b854",
   "metadata": {
    "_cell_guid": "b1076dfc-b9ad-4769-8c92-a6c4dae69d19",
    "_uuid": "8f2839f25d086af736a60e9eeb907d3b93b6e0e5",
    "execution": {
     "iopub.execute_input": "2022-12-04T01:20:32.324450Z",
     "iopub.status.busy": "2022-12-04T01:20:32.321894Z",
     "iopub.status.idle": "2022-12-04T01:20:38.627493Z",
     "shell.execute_reply": "2022-12-04T01:20:38.626706Z",
     "shell.execute_reply.started": "2022-12-04T00:30:53.815625Z"
    },
    "papermill": {
     "duration": 6.341402,
     "end_time": "2022-12-04T01:20:38.627703",
     "exception": false,
     "start_time": "2022-12-04T01:20:32.286301",
     "status": "completed"
    },
    "tags": []
   },
   "outputs": [],
   "source": [
    "# IMPORTS\n",
    "# This Python 3 environment comes with many helpful analytics libraries installed\n",
    "# It is defined by the kaggle/python Docker image: https://github.com/kaggle/docker-python\n",
    "# For example, here's several helpful packages to load\n",
    "\n",
    "import os\n",
    "import zipfile\n",
    "import numpy as np\n",
    "import tensorflow as tf\n",
    "import math\n",
    "import cv2\n",
    "\n",
    "from tensorflow.keras.applications import EfficientNetB0\n",
    "from tensorflow import keras\n",
    "from tensorflow.keras import layers\n",
    "from tensorflow.keras import regularizers\n",
    "from glob import glob\n",
    "\n",
    "# Input data files are available in the read-only \"../input/\" directory\n",
    "# For example, running this (by clicking run or pressing Shift+Enter) will list all files under the input directory\n",
    "\n",
    "import os\n",
    "import gc\n",
    "\n",
    "# You can write up to 20GB to the current directory (/kaggle/working/) that gets preserved as output when you create a version using \"Save & Run All\" \n",
    "# You can also write temporary files to /kaggle/temp/, but they won't be saved outside of the current session\n",
    "print(\"Rodei imports\")"
   ]
  },
  {
   "cell_type": "code",
   "execution_count": null,
   "id": "6554905b",
   "metadata": {
    "execution": {
     "iopub.execute_input": "2022-12-04T01:20:38.683069Z",
     "iopub.status.busy": "2022-12-04T01:20:38.682347Z",
     "iopub.status.idle": "2022-12-04T01:20:44.259977Z",
     "shell.execute_reply": "2022-12-04T01:20:44.260566Z",
     "shell.execute_reply.started": "2022-12-04T00:31:04.093014Z"
    },
    "papermill": {
     "duration": 5.608575,
     "end_time": "2022-12-04T01:20:44.260760",
     "exception": false,
     "start_time": "2022-12-04T01:20:38.652185",
     "status": "completed"
    },
    "tags": []
   },
   "outputs": [],
   "source": [
    "# Detect TPU, return appropriate distribution strategy\n",
    "try:\n",
    "    tpu = tf.distribute.cluster_resolver.TPUClusterResolver() \n",
    "    print('Running on TPU ', tpu.master())\n",
    "except ValueError:\n",
    "    tpu = None\n",
    "\n",
    "if tpu:\n",
    "    tf.config.experimental_connect_to_cluster(tpu)\n",
    "    tf.tpu.experimental.initialize_tpu_system(tpu)\n",
    "    strategy = tf.distribute.experimental.TPUStrategy(tpu)\n",
    "else:\n",
    "    strategy = tf.distribute.get_strategy() \n",
    "\n",
    "print(\"REPLICAS: \", strategy.num_replicas_in_sync)"
   ]
  },
  {
   "cell_type": "code",
   "execution_count": null,
   "id": "2d94d344",
   "metadata": {
    "execution": {
     "iopub.execute_input": "2022-12-04T01:20:44.325014Z",
     "iopub.status.busy": "2022-12-04T01:20:44.324280Z",
     "iopub.status.idle": "2022-12-04T01:20:46.433921Z",
     "shell.execute_reply": "2022-12-04T01:20:46.434418Z",
     "shell.execute_reply.started": "2022-12-04T00:31:10.082830Z"
    },
    "papermill": {
     "duration": 2.148651,
     "end_time": "2022-12-04T01:20:46.434603",
     "exception": false,
     "start_time": "2022-12-04T01:20:44.285952",
     "status": "completed"
    },
    "tags": []
   },
   "outputs": [],
   "source": [
    "# Simple test TPU\n",
    "# Step 1: Get the credential from the Cloud SDK\n",
    "from kaggle_secrets import UserSecretsClient\n",
    "user_secrets = UserSecretsClient()\n",
    "user_credential = user_secrets.get_gcloud_credential()\n",
    "print(\"Obtendo credentials\")\n",
    "# Step 2: Set the credentials\n",
    "user_secrets.set_tensorflow_credential(user_credential)\n",
    "print(\"Definindo credentials\")\n",
    "\n",
    "# Step 3: Use a familiar call to get the GCS path of the dataset\n",
    "from kaggle_datasets import KaggleDatasets\n",
    "#!ls /kaggle/input\n",
    "GCS_DS_PATH = KaggleDatasets().get_gcs_path('fvcbisddsmv2tfrecords')\n",
    "print(\"GCS_DS_PATH:\")\n",
    "print(GCS_DS_PATH)\n",
    "VALID_FILENAMES = tf.io.gfile.glob(GCS_DS_PATH+'/**')\n",
    "print(VALID_FILENAMES)"
   ]
  },
  {
   "cell_type": "code",
   "execution_count": null,
   "id": "e32672e6",
   "metadata": {
    "execution": {
     "iopub.execute_input": "2022-12-04T01:20:46.491082Z",
     "iopub.status.busy": "2022-12-04T01:20:46.490376Z",
     "iopub.status.idle": "2022-12-04T01:20:46.580853Z",
     "shell.execute_reply": "2022-12-04T01:20:46.581431Z",
     "shell.execute_reply.started": "2022-12-04T00:31:12.148707Z"
    },
    "papermill": {
     "duration": 0.121158,
     "end_time": "2022-12-04T01:20:46.581620",
     "exception": false,
     "start_time": "2022-12-04T01:20:46.460462",
     "status": "completed"
    },
    "tags": []
   },
   "outputs": [],
   "source": [
    "#Read from bucket\n",
    "print(\"DEBUG: \"+ GCS_DS_PATH)\n",
    "# ../input/cbisddsmpatchesv2tfrecordspng/data_patches_s10_v2_tfrecords\n",
    "files = tf.io.gfile.glob(GCS_DS_PATH+'/data_cbis_v2_tfrecords/test/**')\n",
    "print(len(files))"
   ]
  },
  {
   "cell_type": "markdown",
   "id": "2662f72e",
   "metadata": {
    "papermill": {
     "duration": 0.027396,
     "end_time": "2022-12-04T01:20:46.635824",
     "exception": false,
     "start_time": "2022-12-04T01:20:46.608428",
     "status": "completed"
    },
    "tags": []
   },
   "source": [
    "# Get datasets"
   ]
  },
  {
   "cell_type": "code",
   "execution_count": null,
   "id": "69529a3f",
   "metadata": {
    "execution": {
     "iopub.execute_input": "2022-12-04T01:20:46.693102Z",
     "iopub.status.busy": "2022-12-04T01:20:46.692390Z",
     "iopub.status.idle": "2022-12-04T01:20:46.941653Z",
     "shell.execute_reply": "2022-12-04T01:20:46.940913Z",
     "shell.execute_reply.started": "2022-12-04T00:31:12.217056Z"
    },
    "papermill": {
     "duration": 0.279081,
     "end_time": "2022-12-04T01:20:46.941819",
     "exception": false,
     "start_time": "2022-12-04T01:20:46.662738",
     "status": "completed"
    },
    "tags": []
   },
   "outputs": [],
   "source": [
    "BATCH_SIZE = 4 * strategy.num_replicas_in_sync\n",
    "TRAINING_FILENAMES = tf.io.gfile.glob(GCS_DS_PATH+'/data_cbis_v2_tfrecords/train/train_??-???.tfrec')\n",
    "VALIDATION_FILENAMES = tf.io.gfile.glob(GCS_DS_PATH+'/data_cbis_v2_tfrecords/val/val_??-??.tfrec')\n",
    "TEST_FILENAMES = tf.io.gfile.glob(GCS_DS_PATH+'/data_cbis_v2_tfrecords/test/test_??-??.tfrec')\n",
    "AUTO = tf.data.experimental.AUTOTUNE\n",
    "#IMAGE_SIZE = [1152, 896]\n",
    "IMAGE_SIZE = [2304, 1792]\n",
    "print(\"BATCH_SIZE, AUTO and IMAGE_SIZE defined\")"
   ]
  },
  {
   "cell_type": "code",
   "execution_count": null,
   "id": "bfcb6515",
   "metadata": {
    "execution": {
     "iopub.execute_input": "2022-12-04T01:20:47.073003Z",
     "iopub.status.busy": "2022-12-04T01:20:47.071963Z",
     "iopub.status.idle": "2022-12-04T01:20:47.093088Z",
     "shell.execute_reply": "2022-12-04T01:20:47.092467Z",
     "shell.execute_reply.started": "2022-12-04T00:31:12.385205Z"
    },
    "papermill": {
     "duration": 0.051348,
     "end_time": "2022-12-04T01:20:47.093243",
     "exception": false,
     "start_time": "2022-12-04T01:20:47.041895",
     "status": "completed"
    },
    "tags": []
   },
   "outputs": [],
   "source": [
    "# Helper methods\n",
    "#Ler datasets em tfrecord\n",
    "def decode_image(image_data):\n",
    "#     HEIGHT = 1152\n",
    "#     WIDTH = 896\n",
    "    HEIGHT = 2304\n",
    "    WIDTH = 1792\n",
    "    # DECODIFICAR A IMAGEM\n",
    "    # Get 16 bit gray scalar tf.io.parse_tensor\n",
    "    image = tf.image.decode_png(image_data, channels=1, dtype=tf.uint16)\n",
    "    image = tf.image.resize(image, [HEIGHT, WIDTH])\n",
    "    image = tf.cast(image, tf.float32)\n",
    "    image = tf.reshape(image, [HEIGHT,WIDTH,1])\n",
    "    return image\n",
    "\n",
    "def read_labeled_tfrecord(example):\n",
    "    LABELED_TFREC_FORMAT = {\n",
    "        \"image\": tf.io.FixedLenFeature([], tf.string), # tf.string means bytestring\n",
    "        \"label\": tf.io.FixedLenFeature([], tf.int64),  # shape [] means single element\n",
    "    }\n",
    "    example = tf.io.parse_single_example(example, LABELED_TFREC_FORMAT)\n",
    "    image = decode_image(example['image'])\n",
    "    label = tf.cast(example['label'], tf.int32)\n",
    "    return image, label # returns a dataset of (image, label) pairs\n",
    "\n",
    "def read_unlabeled_tfrecord(example):\n",
    "    UNLABELED_TFREC_FORMAT = {\n",
    "        \"image\": tf.io.FixedLenFeature([], tf.string), # tf.string means bytestring\n",
    "        \"label\": tf.io.FixedLenFeature([], tf.int64),  # shape [] means single element\n",
    "        # class is missing, this competitions's challenge is to predict flower classes for the test dataset\n",
    "    }\n",
    "    example = tf.io.parse_single_example(example, UNLABELED_TFREC_FORMAT)\n",
    "    image = decode_image(example['image'])\n",
    "    idnum = example['label']\n",
    "    return image, idnum # returns a dataset of image(s)\n",
    "\n",
    "def load_dataset(filenames, labeled=True, ordered=False):\n",
    "    # Read from TFRecords. For optimal performance, reading from multiple files at once and\n",
    "    # disregarding data order. Order does not matter since we will be shuffling the data anyway.\n",
    "\n",
    "    ignore_order = tf.data.Options()\n",
    "    if not ordered:\n",
    "        ignore_order.experimental_deterministic = False # disable order, increase speed\n",
    "\n",
    "    dataset = tf.data.TFRecordDataset(filenames, num_parallel_reads=AUTO) # automatically interleaves reads from multiple files\n",
    "    dataset = dataset.with_options(ignore_order) # uses data as soon as it streams in, rather than in its original order\n",
    "    dataset = dataset.map(read_labeled_tfrecord if labeled else read_unlabeled_tfrecord, num_parallel_calls=AUTO)\n",
    "    # returns a dataset of (image, label) pairs if labeled=True or (image, id) pairs if labeled=False\n",
    "    return dataset\n",
    "\n",
    "def data_augment(image, label):\n",
    "    # Thanks to the dataset.prefetch(AUTO)\n",
    "    # statement in the next function (below), this happens essentially\n",
    "    # for free on TPU. Data pipeline code is executed on the \"CPU\"\n",
    "    # part of the TPU while the TPU itself is computing gradients.\n",
    "    image = tf.image.random_flip_left_right(image)\n",
    "    image = tf.image.random_flip_up_down(image)\n",
    "    return image, label \n",
    "\n",
    "def subtract_mean(image):\n",
    "    TRAINING_MEAN = 13729\n",
    "    TRAINING_VAR = 285656500.34555787\n",
    "    image = image - TRAINING_MEAN\n",
    "    return image\n",
    "\n",
    "def one_to_three_channels(image):\n",
    "    image = tf.repeat(image, repeats=3, axis=2)\n",
    "    return image\n",
    "\n",
    "def normalize_for_model(image):\n",
    "    SCALE = 257.0 #pixels [0.0, 255.0]\n",
    "    return image/SCALE\n",
    "\n",
    "def adjust_for_model_input(image, label):\n",
    "    image = subtract_mean(image)\n",
    "    image = normalize_for_model(image)\n",
    "    image = one_to_three_channels(image)\n",
    "    return image, label\n",
    "\n",
    "def get_training_dataset():\n",
    "    print(\"CREATING TRAINING DATASET\")\n",
    "    dataset = load_dataset(TRAINING_FILENAMES, labeled=True)\n",
    "    print(\"Data augmentation\")\n",
    "    dataset = dataset.map(data_augment, num_parallel_calls=AUTO)\n",
    "    dataset = dataset.map(adjust_for_model_input, num_parallel_calls=AUTO)\n",
    "    dataset = dataset.batch(BATCH_SIZE, drop_remainder=True)\n",
    "    dataset = dataset.prefetch(AUTO) # prefetch next batch while training (autotune prefetch buffer size)\n",
    "    return dataset\n",
    "\n",
    "def get_validation_dataset(ordered=False):\n",
    "    dataset = load_dataset(VALIDATION_FILENAMES, labeled=True, ordered=ordered)\n",
    "    dataset = dataset.map(adjust_for_model_input, num_parallel_calls=AUTO)\n",
    "    dataset = dataset.batch(BATCH_SIZE, drop_remainder=True)\n",
    "    dataset = dataset.prefetch(AUTO) # prefetch next batch while training (autotune prefetch buffer size)\n",
    "    return dataset\n",
    "\n",
    "def get_test_dataset(ordered=True):\n",
    "    dataset = load_dataset(TEST_FILENAMES, labeled=True, ordered=ordered)\n",
    "    dataset = dataset.map(adjust_for_model_input, num_parallel_calls=AUTO)\n",
    "    dataset = dataset.batch(BATCH_SIZE, drop_remainder=True)\n",
    "    dataset = dataset.prefetch(AUTO) # prefetch next batch while training (autotune prefetch buffer size)\n",
    "    return dataset\n",
    "\n",
    "print(\"Helper methods to load datasets ready\")"
   ]
  },
  {
   "cell_type": "code",
   "execution_count": null,
   "id": "500ed92d",
   "metadata": {
    "execution": {
     "iopub.execute_input": "2022-12-04T01:20:47.153649Z",
     "iopub.status.busy": "2022-12-04T01:20:47.152491Z",
     "iopub.status.idle": "2022-12-04T01:20:47.637029Z",
     "shell.execute_reply": "2022-12-04T01:20:47.637845Z",
     "shell.execute_reply.started": "2022-12-04T00:31:12.413868Z"
    },
    "papermill": {
     "duration": 0.517851,
     "end_time": "2022-12-04T01:20:47.638168",
     "exception": false,
     "start_time": "2022-12-04T01:20:47.120317",
     "status": "completed"
    },
    "tags": []
   },
   "outputs": [],
   "source": [
    "# Ler datasets\n",
    "ds_train = get_training_dataset()\n",
    "ds_valid = get_validation_dataset()\n",
    "print(\"Datasets de treino e validação lidos\")"
   ]
  },
  {
   "cell_type": "code",
   "execution_count": null,
   "id": "20a2a707",
   "metadata": {
    "execution": {
     "iopub.execute_input": "2022-12-04T01:20:47.699379Z",
     "iopub.status.busy": "2022-12-04T01:20:47.698363Z",
     "iopub.status.idle": "2022-12-04T01:21:03.170395Z",
     "shell.execute_reply": "2022-12-04T01:21:03.170972Z",
     "shell.execute_reply.started": "2022-12-04T00:31:12.960822Z"
    },
    "papermill": {
     "duration": 15.503403,
     "end_time": "2022-12-04T01:21:03.171193",
     "exception": false,
     "start_time": "2022-12-04T01:20:47.667790",
     "status": "completed"
    },
    "tags": []
   },
   "outputs": [],
   "source": [
    "import re\n",
    "def count_data_items(filenames):\n",
    "    # the number of data items is written in the name of the .tfrec\n",
    "    n = [int(re.compile(r\"-([0-9]*)\\.\").search(filename).group(1)) for filename in filenames]\n",
    "    return np.sum(n)\n",
    "\n",
    "print(\"Training data shapes:\")\n",
    "for image, label in ds_train.take(3):\n",
    "    print(image.numpy().shape, label.numpy().shape)\n",
    "print(\"###################################\")\n",
    "NUM_TRAINING_IMAGES = count_data_items(TRAINING_FILENAMES)\n",
    "NUM_VALIDATION_IMAGES = count_data_items(VALIDATION_FILENAMES)\n",
    "NUM_TEST_IMAGES = count_data_items(TEST_FILENAMES)\n",
    "print('Dataset: {} training images, {} validation images, {} unlabeled test images'.format(NUM_TRAINING_IMAGES, NUM_VALIDATION_IMAGES, NUM_TEST_IMAGES))"
   ]
  },
  {
   "cell_type": "code",
   "execution_count": null,
   "id": "043fe098",
   "metadata": {
    "execution": {
     "iopub.execute_input": "2022-12-04T01:21:03.237123Z",
     "iopub.status.busy": "2022-12-04T01:21:03.236431Z",
     "iopub.status.idle": "2022-12-04T01:21:03.245578Z",
     "shell.execute_reply": "2022-12-04T01:21:03.246134Z",
     "shell.execute_reply.started": "2022-12-04T00:31:29.682083Z"
    },
    "papermill": {
     "duration": 0.044426,
     "end_time": "2022-12-04T01:21:03.246322",
     "exception": false,
     "start_time": "2022-12-04T01:21:03.201896",
     "status": "completed"
    },
    "tags": []
   },
   "outputs": [],
   "source": [
    "import matplotlib.pyplot as plt\n",
    "test_data_pipeline = False\n",
    "if(test_data_pipeline):\n",
    "    print(\"Checking images\")\n",
    "    \n",
    "    for images, labels in ds_train.take(10):\n",
    "        print(images.numpy().shape, labels.numpy().shape)\n",
    "        print(images.numpy().max(), images.numpy().min())\n",
    "        print(labels.numpy().max(), labels.numpy().min())\n",
    "        for i in range(4):\n",
    "            print(labels[i])\n",
    "            plt.figure(figsize=(10, 10))\n",
    "            plt.imshow(images[i].numpy().astype(\"float32\")/255.0)\n",
    "            plt.show()\n"
   ]
  },
  {
   "cell_type": "markdown",
   "id": "3da2f893",
   "metadata": {
    "papermill": {
     "duration": 0.030528,
     "end_time": "2022-12-04T01:21:03.308150",
     "exception": false,
     "start_time": "2022-12-04T01:21:03.277622",
     "status": "completed"
    },
    "tags": []
   },
   "source": [
    "# Train model"
   ]
  },
  {
   "cell_type": "code",
   "execution_count": null,
   "id": "812a9b29",
   "metadata": {
    "execution": {
     "iopub.execute_input": "2022-12-04T01:21:03.388311Z",
     "iopub.status.busy": "2022-12-04T01:21:03.371567Z",
     "iopub.status.idle": "2022-12-04T01:21:03.398677Z",
     "shell.execute_reply": "2022-12-04T01:21:03.399212Z",
     "shell.execute_reply.started": "2022-12-04T00:31:29.694941Z"
    },
    "papermill": {
     "duration": 0.061171,
     "end_time": "2022-12-04T01:21:03.399395",
     "exception": false,
     "start_time": "2022-12-04T01:21:03.338224",
     "status": "completed"
    },
    "tags": []
   },
   "outputs": [],
   "source": [
    "#Segunda implementação\n",
    "#MBblock\n",
    "# implementation from https://github.com/qubvel/efficientnet/blob/master/efficientnet/model.py\n",
    "from tensorflow.keras import backend as backend\n",
    "from tensorflow.keras import Model\n",
    "CONV_KERNEL_INITIALIZER = {\n",
    "    'class_name': 'VarianceScaling',\n",
    "    'config': {\n",
    "        'scale': 2.0,\n",
    "        'mode': 'fan_out',\n",
    "        # EfficientNet actually uses an untruncated normal distribution for\n",
    "        # initializing conv layers, but keras.initializers.VarianceScaling use\n",
    "        # a truncated distribution.\n",
    "        # We decided against a custom initializer for better serializability.\n",
    "        'distribution': 'normal'\n",
    "    }\n",
    "}\n",
    "\n",
    "def swish(x):\n",
    "    \"\"\"Swish activation function.\n",
    "    # Arguments\n",
    "        x: Input tensor.\n",
    "    # Returns\n",
    "        The Swish activation: `x * sigmoid(x)`.\n",
    "    # References\n",
    "        [Searching for Activation Functions](https://arxiv.org/abs/1710.05941)\n",
    "    \"\"\"\n",
    "    if backend.backend() == 'tensorflow':\n",
    "        try:\n",
    "            # The native TF implementation has a more\n",
    "            # memory-efficient gradient implementation\n",
    "            return backend.tf.nn.swish(x)\n",
    "        except AttributeError:\n",
    "            pass\n",
    "\n",
    "    return x * backend.sigmoid(x)\n",
    "\n",
    "    \n",
    "def mb_block(inputs, activation_fn=swish, drop_rate=0., name='',\n",
    "          filters_in=1280, filters_out=1280, kernel_size=3, strides=2,\n",
    "          expand_ratio=2, se_ratio=0.25, id_skip=True):\n",
    "    \"\"\"A mobile inverted residual block.\n",
    "    # Arguments\n",
    "        inputs: input tensor.\n",
    "        activation_fn: activation function.\n",
    "        drop_rate: float between 0 and 1, fraction of the input units to drop.\n",
    "        name: string, block label.\n",
    "        filters_in: integer, the number of input filters.\n",
    "        filters_out: integer, the number of output filters.\n",
    "        kernel_size: integer, the dimension of the convolution window.\n",
    "        strides: integer, the stride of the convolution.\n",
    "        expand_ratio: integer, scaling coefficient for the input filters.\n",
    "        se_ratio: float between 0 and 1, fraction to squeeze the input filters.\n",
    "        id_skip: boolean.\n",
    "    # Returns\n",
    "        output tensor for the block.\n",
    "    \"\"\"\n",
    "    bn_axis = 3 if backend.image_data_format() == 'channels_last' else 1\n",
    "\n",
    "    # Expansion phase\n",
    "    filters = filters_in * expand_ratio\n",
    "    if expand_ratio != 1:\n",
    "        x = layers.Conv2D(filters, 1,\n",
    "                          padding='same',\n",
    "                          use_bias=False,\n",
    "                          kernel_initializer=CONV_KERNEL_INITIALIZER,\n",
    "                          name=name + 'expand_conv')(inputs)\n",
    "        x = layers.BatchNormalization(axis=bn_axis, name=name + 'expand_bn')(x)\n",
    "        x = layers.Activation(activation_fn, name=name + 'expand_activation')(x)\n",
    "    else:\n",
    "        x = inputs\n",
    "\n",
    "    # Depthwise Convolution\n",
    "    x = layers.DepthwiseConv2D(kernel_size,\n",
    "                               strides=strides,\n",
    "                               padding='same',\n",
    "                               use_bias=False,\n",
    "                               depthwise_initializer=CONV_KERNEL_INITIALIZER,\n",
    "                               name=name + 'dwconv')(x)\n",
    "    x = layers.BatchNormalization(axis=bn_axis, name=name + 'bn')(x)\n",
    "    x = layers.Activation(activation_fn, name=name + 'activation')(x)\n",
    "\n",
    "    # Squeeze and Excitation phase\n",
    "    if 0 < se_ratio <= 1:\n",
    "        filters_se = max(1, int(filters_in * se_ratio))\n",
    "        target_shape = (1, 1, filters) if backend.image_data_format() == 'channels_last' else (filters, 1, 1)\n",
    "        se = layers.GlobalAveragePooling2D(name=name + 'se_squeeze')(x)\n",
    "        se = layers.Reshape(target_shape, name=name + 'se_reshape')(se)\n",
    "        se = layers.Conv2D(filters_se, 1,\n",
    "                           padding='same',\n",
    "                           activation=activation_fn,\n",
    "                           kernel_initializer=CONV_KERNEL_INITIALIZER,\n",
    "                           use_bias=True,\n",
    "                           name=name + 'se_reduce')(se)\n",
    "        se = layers.Conv2D(filters, 1,\n",
    "                           padding='same',\n",
    "                           activation='sigmoid',\n",
    "                           use_bias=True,\n",
    "                           kernel_initializer=CONV_KERNEL_INITIALIZER,\n",
    "                           name=name + 'se_expand')(se)\n",
    "        if backend.backend() == 'theano':\n",
    "            # For the Theano backend, we have to explicitly make\n",
    "            # the excitation weights broadcastable.\n",
    "            se = layers.Lambda(\n",
    "                lambda x: backend.pattern_broadcast(x, [True, True, True, False]),\n",
    "                output_shape=lambda input_shape: input_shape,\n",
    "                name=name + 'se_broadcast')(se)\n",
    "        x = layers.multiply([x, se], name=name + 'se_excite')\n",
    "\n",
    "    # Output phase\n",
    "    x = layers.Conv2D(filters_out, 1,\n",
    "                      padding='same',\n",
    "                      use_bias=False,\n",
    "                      kernel_initializer=CONV_KERNEL_INITIALIZER,\n",
    "                      name=name + 'project_conv')(x)\n",
    "    x = layers.BatchNormalization(axis=bn_axis, name=name + 'project_bn')(x)\n",
    "    if (id_skip is True and strides == 1 and filters_in == filters_out):\n",
    "        if drop_rate > 0:\n",
    "            x = layers.Dropout(drop_rate,\n",
    "                               noise_shape=(None, 1, 1, 1),\n",
    "                               name=name + 'drop')(x)\n",
    "        x = layers.add([x, inputs], name=name + 'add')\n",
    "\n",
    "    return x\n",
    "\n",
    "print(\"Blockv2 ready\")"
   ]
  },
  {
   "cell_type": "code",
   "execution_count": null,
   "id": "a2744d78",
   "metadata": {
    "execution": {
     "iopub.execute_input": "2022-12-04T01:21:03.469946Z",
     "iopub.status.busy": "2022-12-04T01:21:03.468959Z",
     "iopub.status.idle": "2022-12-04T01:21:03.472464Z",
     "shell.execute_reply": "2022-12-04T01:21:03.473205Z",
     "shell.execute_reply.started": "2022-12-04T00:31:29.724344Z"
    },
    "papermill": {
     "duration": 0.043708,
     "end_time": "2022-12-04T01:21:03.473451",
     "exception": false,
     "start_time": "2022-12-04T01:21:03.429743",
     "status": "completed"
    },
    "tags": []
   },
   "outputs": [],
   "source": [
    "#Model implemantation\n",
    "from tensorflow.keras.models import load_model\n",
    "def get_pre_trained_pch_clf(file, input_layer):\n",
    "    print(\"Getting file\")\n",
    "    pch_clf_model = load_model(file)\n",
    "    pch_clf_model.summary()\n",
    "    effb0 = pch_clf_model.layers[0]\n",
    "    print(effb0.name)\n",
    "    x = effb0(input_layer)\n",
    "    return x\n",
    "\n",
    "def get_model(file):\n",
    "#     inputs = tf.keras.Input(shape=(1152,896,3))\n",
    "    inputs = tf.keras.Input(shape=(2304,1792,3))\n",
    "    x = get_pre_trained_pch_clf(file,inputs)\n",
    "    x = mb_block(x, name='b1_')\n",
    "    x = mb_block(x, name='b2_')\n",
    "    x = layers.GlobalAveragePooling2D()(x)\n",
    "    x = layers.Flatten()(x)\n",
    "    x = layers.Dropout(0.2)(x)\n",
    "    x = layers.Dense(2, activation='softmax')(x)\n",
    "    model = Model(inputs, outputs=x)\n",
    "    print(\"Model ready to use\")\n",
    "    return model\n",
    "\n",
    "print(\"Defining model\")"
   ]
  },
  {
   "cell_type": "code",
   "execution_count": null,
   "id": "8b59c6f1",
   "metadata": {
    "execution": {
     "iopub.execute_input": "2022-12-04T01:21:03.540406Z",
     "iopub.status.busy": "2022-12-04T01:21:03.539436Z",
     "iopub.status.idle": "2022-12-04T01:21:03.984949Z",
     "shell.execute_reply": "2022-12-04T01:21:03.985752Z",
     "shell.execute_reply.started": "2022-12-04T00:31:29.741519Z"
    },
    "papermill": {
     "duration": 0.480879,
     "end_time": "2022-12-04T01:21:03.985970",
     "exception": false,
     "start_time": "2022-12-04T01:21:03.505091",
     "status": "completed"
    },
    "tags": []
   },
   "outputs": [],
   "source": [
    "# My Learning Rate\n",
    "import math\n",
    "from matplotlib import pyplot as plt\n",
    "def cosine_and_warmup_lr(epoch, \n",
    "                        start_lr = 0.000001,\n",
    "                        base = 0.0001,\n",
    "                        warmup_epochs = 4,\n",
    "                        period = 5,\n",
    "                        delta = 0.00002):\n",
    "    def lr(epoch, warmup_epochs, period, delta, base):\n",
    "        if(epoch < warmup_epochs):\n",
    "            if epoch < 1:\n",
    "                lr = base*(1)/warmup_epochs\n",
    "            else:\n",
    "                lr = base*(epoch)/warmup_epochs\n",
    "            print(base)\n",
    "            print(epoch)\n",
    "            print(warmup_epochs)\n",
    "            print(lr)\n",
    "        else:\n",
    "            lr = 0.5*delta*(1+tf.math.cos((epoch - warmup_epochs)*math.pi/period))+base-delta/2\n",
    "        return lr\n",
    "    return lr(epoch,\n",
    "             warmup_epochs,\n",
    "             period,\n",
    "             delta,\n",
    "             base)\n",
    "    \n",
    "lr_callback = tf.keras.callbacks.LearningRateScheduler(cosine_and_warmup_lr, verbose=True)\n",
    "rng = [i for i in range(1,50)]\n",
    "y = [cosine_and_warmup_lr(x) for x in rng]\n",
    "plt.plot(rng, y)\n",
    "print(\"Learning rate schedule: {:.3g} to {:.3g} to {:.3g}\".format(y[0], max(y), y[-1]))"
   ]
  },
  {
   "cell_type": "code",
   "execution_count": null,
   "id": "164caf68",
   "metadata": {
    "execution": {
     "iopub.execute_input": "2022-12-04T01:21:04.057727Z",
     "iopub.status.busy": "2022-12-04T01:21:04.057015Z",
     "iopub.status.idle": "2022-12-04T01:21:33.962753Z",
     "shell.execute_reply": "2022-12-04T01:21:33.963339Z",
     "shell.execute_reply.started": "2022-12-04T00:31:30.285440Z"
    },
    "papermill": {
     "duration": 29.944962,
     "end_time": "2022-12-04T01:21:33.963587",
     "exception": false,
     "start_time": "2022-12-04T01:21:04.018625",
     "status": "completed"
    },
    "tags": []
   },
   "outputs": [],
   "source": [
    "with strategy.scope():\n",
    "    # Build model\n",
    "    weights_file = '/kaggle/input/patchclassifiertpumodels/patch_classifier_tpu_448_79_52.h5'\n",
    "    model = get_model(weights_file)\n",
    "    optimizer = tf.keras.optimizers.Adam(learning_rate=1e-5)\n",
    "    metrics = ['sparse_categorical_accuracy']    \n",
    "    model.compile(\n",
    "        optimizer = optimizer,\n",
    "        loss = 'sparse_categorical_crossentropy',#CrossEntropyLoss\n",
    "        metrics = metrics,\n",
    "    )\n",
    "model.summary()"
   ]
  },
  {
   "cell_type": "code",
   "execution_count": null,
   "id": "501ecf13",
   "metadata": {
    "execution": {
     "iopub.execute_input": "2022-12-04T01:21:34.042192Z",
     "iopub.status.busy": "2022-12-04T01:21:34.041216Z",
     "iopub.status.idle": "2022-12-04T01:59:27.516588Z",
     "shell.execute_reply": "2022-12-04T01:59:27.517192Z",
     "shell.execute_reply.started": "2022-12-04T00:31:58.901108Z"
    },
    "papermill": {
     "duration": 2273.514214,
     "end_time": "2022-12-04T01:59:27.517390",
     "exception": false,
     "start_time": "2022-12-04T01:21:34.003176",
     "status": "completed"
    },
    "tags": []
   },
   "outputs": [],
   "source": [
    "# Training\n",
    "# Learning Rate\n",
    "# Fit Model\n",
    "epochs = 30\n",
    "batch_size = BATCH_SIZE\n",
    "STEPS_PER_EPOCH = NUM_TRAINING_IMAGES // BATCH_SIZE\n",
    "print(STEPS_PER_EPOCH)\n",
    "history = model.fit(\n",
    "    ds_train,\n",
    "    validation_data=ds_valid,\n",
    "    epochs=epochs,\n",
    "    batch_size=batch_size,\n",
    "    shuffle=True,\n",
    "    verbose=1,\n",
    "    callbacks=[lr_callback],\n",
    ")"
   ]
  },
  {
   "cell_type": "code",
   "execution_count": null,
   "id": "bf741275",
   "metadata": {
    "execution": {
     "iopub.execute_input": "2022-12-04T01:59:28.864524Z",
     "iopub.status.busy": "2022-12-04T01:59:28.863766Z",
     "iopub.status.idle": "2022-12-04T01:59:28.868127Z",
     "shell.execute_reply": "2022-12-04T01:59:28.867486Z",
     "shell.execute_reply.started": "2022-12-04T01:10:11.507961Z"
    },
    "papermill": {
     "duration": 0.674274,
     "end_time": "2022-12-04T01:59:28.868273",
     "exception": false,
     "start_time": "2022-12-04T01:59:28.193999",
     "status": "completed"
    },
    "tags": []
   },
   "outputs": [],
   "source": [
    "print(\"Verificando acurácia durante treinamento\")\n",
    "print(history.history.keys())"
   ]
  },
  {
   "cell_type": "code",
   "execution_count": null,
   "id": "4942e7d1",
   "metadata": {
    "execution": {
     "iopub.execute_input": "2022-12-04T01:59:30.160282Z",
     "iopub.status.busy": "2022-12-04T01:59:30.159590Z",
     "iopub.status.idle": "2022-12-04T01:59:30.876817Z",
     "shell.execute_reply": "2022-12-04T01:59:30.877532Z",
     "shell.execute_reply.started": "2022-12-04T01:10:11.518548Z"
    },
    "papermill": {
     "duration": 1.363699,
     "end_time": "2022-12-04T01:59:30.877772",
     "exception": false,
     "start_time": "2022-12-04T01:59:29.514073",
     "status": "completed"
    },
    "tags": []
   },
   "outputs": [],
   "source": [
    "print(\"Calculating the accuracy\")\n",
    "acc = history.history['sparse_categorical_accuracy']\n",
    "val_acc = history.history['val_sparse_categorical_accuracy']\n",
    "plt.rcParams['font.size'] = '18'\n",
    "print(\"Calculating the loss\")\n",
    "loss = history.history['loss']\n",
    "val_loss = history.history['val_loss']\n",
    "print(\"Calculating learning rate\")\n",
    "lr_gr = history.history['lr']\n",
    "epochs_range = range(epochs)\n",
    "print(\"The results are being visualized\")\n",
    "plt.figure(figsize=(20, 60))\n",
    "# Acuracia\n",
    "plt.subplot(3, 1, 1)\n",
    "plt.plot(epochs_range, acc, label='Treino')\n",
    "plt.plot(epochs_range, val_acc, label='Validação')\n",
    "plt.legend(loc='lower right')\n",
    "plt.title('Acurácia de treino e validação')\n",
    "#Loss\n",
    "plt.subplot(3, 1, 2)\n",
    "plt.plot(epochs_range, loss, label='Treino')\n",
    "plt.plot(epochs_range, val_loss, label='Validação')\n",
    "plt.legend(loc='upper right')\n",
    "plt.title('Perda de treino e validação')\n",
    "#Learning rate\n",
    "plt.subplot(3, 1, 3)\n",
    "plt.plot(epochs_range, lr_gr, label='lr')\n",
    "plt.legend(loc='upper right')\n",
    "plt.title('Taxa de Aprendizagem')\n",
    "plt.show()"
   ]
  },
  {
   "cell_type": "markdown",
   "id": "d933355c",
   "metadata": {
    "papermill": {
     "duration": 0.630582,
     "end_time": "2022-12-04T01:59:32.158022",
     "exception": false,
     "start_time": "2022-12-04T01:59:31.527440",
     "status": "completed"
    },
    "tags": []
   },
   "source": [
    "# Test model"
   ]
  },
  {
   "cell_type": "code",
   "execution_count": null,
   "id": "188c7fc2",
   "metadata": {
    "execution": {
     "iopub.execute_input": "2022-12-04T01:59:33.457091Z",
     "iopub.status.busy": "2022-12-04T01:59:33.455980Z",
     "iopub.status.idle": "2022-12-04T01:59:34.329762Z",
     "shell.execute_reply": "2022-12-04T01:59:34.329024Z",
     "shell.execute_reply.started": "2022-12-04T01:10:12.139120Z"
    },
    "papermill": {
     "duration": 1.528594,
     "end_time": "2022-12-04T01:59:34.329918",
     "exception": false,
     "start_time": "2022-12-04T01:59:32.801324",
     "status": "completed"
    },
    "tags": []
   },
   "outputs": [],
   "source": [
    "# Cleaning RAM\n",
    "import gc\n",
    "print(\"Limpando RAM antes de rodar testes\")\n",
    "ds_train = None\n",
    "ds_valid = None\n",
    "del ds_train\n",
    "del ds_valid\n",
    "gc.collect()"
   ]
  },
  {
   "cell_type": "code",
   "execution_count": null,
   "id": "8eb43a17",
   "metadata": {
    "execution": {
     "iopub.execute_input": "2022-12-04T01:59:35.628188Z",
     "iopub.status.busy": "2022-12-04T01:59:35.627482Z",
     "iopub.status.idle": "2022-12-04T01:59:49.420562Z",
     "shell.execute_reply": "2022-12-04T01:59:49.421114Z",
     "shell.execute_reply.started": "2022-12-04T01:10:13.218327Z"
    },
    "papermill": {
     "duration": 14.446037,
     "end_time": "2022-12-04T01:59:49.421329",
     "exception": false,
     "start_time": "2022-12-04T01:59:34.975292",
     "status": "completed"
    },
    "tags": []
   },
   "outputs": [],
   "source": [
    "dataset = get_test_dataset()\n",
    "score = model.evaluate(dataset)\n",
    "print('Test loss:', score[0])\n",
    "print('Test accuracy:', score[1])"
   ]
  },
  {
   "cell_type": "code",
   "execution_count": null,
   "id": "751b2d82",
   "metadata": {
    "execution": {
     "iopub.execute_input": "2022-12-04T01:59:50.737400Z",
     "iopub.status.busy": "2022-12-04T01:59:50.730748Z",
     "iopub.status.idle": "2022-12-04T02:01:01.010014Z",
     "shell.execute_reply": "2022-12-04T02:01:01.010601Z",
     "shell.execute_reply.started": "2022-12-04T01:10:23.497518Z"
    },
    "papermill": {
     "duration": 70.939168,
     "end_time": "2022-12-04T02:01:01.010823",
     "exception": false,
     "start_time": "2022-12-04T01:59:50.071655",
     "status": "completed"
    },
    "tags": []
   },
   "outputs": [],
   "source": [
    "from sklearn.metrics import confusion_matrix\n",
    "import gc\n",
    "from collections import Counter\n",
    "\n",
    "def data_visualization(matrix):\n",
    "    num_cases = 0\n",
    "    total_per_class = [0,0]\n",
    "    for i in range(2):\n",
    "        for j in range(2):\n",
    "            num_cases = num_cases+matrix[i,j]\n",
    "            total_per_class[i] = total_per_class[i] + matrix[i,j]\n",
    "    for i in range(2):\n",
    "        print(\"Classe: \",i)\n",
    "        print(\"Elementos dessa classe: \", total_per_class[i])\n",
    "        print(\"Acertos: \", matrix[i,i])\n",
    "        print(\"% erro: \", (total_per_class[i]-matrix[i,i])/total_per_class[i])\n",
    "        \n",
    "\n",
    "hits = 0\n",
    "last_acc_hit = 0\n",
    "dataset = dataset.unbatch().batch(BATCH_SIZE)\n",
    "batch = iter(dataset)\n",
    "NUM_BATCH = NUM_TEST_IMAGES//BATCH_SIZE\n",
    "# #NUM_BATCH = 5370//BATCH_SIZE\n",
    "cf_matrix = np.zeros([2,2])\n",
    "n_correct_batches = 0\n",
    "for i in range(NUM_BATCH):\n",
    "    last_acc_hit = hits\n",
    "    images, labels = next(batch)\n",
    "    probabilities = model.predict(images)\n",
    "    predictions = np.argmax(probabilities, axis=-1)\n",
    "    labels_np = labels.numpy().astype(np.int64)\n",
    "    print_batch = False\n",
    "    for i in range(BATCH_SIZE):\n",
    "        if(predictions[i] == labels_np[i]):\n",
    "            hits = hits + 1\n",
    "        else:\n",
    "            print_batch = True\n",
    "    if(print_batch):\n",
    "        print(predictions)\n",
    "        print(labels_np)\n",
    "        print(dict(Counter(predictions)))\n",
    "        print((hits-last_acc_hit)/BATCH_SIZE)\n",
    "    else:\n",
    "        n_correct_batches = n_correct_batches + 1\n",
    "    cf_batch_matrix = confusion_matrix(labels_np, predictions, labels=[0,1])\n",
    "    cf_matrix = cf_matrix + cf_batch_matrix\n",
    "    \n",
    "print(probabilities)\n",
    "print(\"Correct batches\")\n",
    "print(n_correct_batches)\n",
    "print(\"Accuracy\")\n",
    "print(hits/(NUM_BATCH*BATCH_SIZE))\n",
    "print(cf_matrix)\n",
    "data_visualization(cf_matrix)\n",
    "import seaborn as sns\n",
    "import matplotlib.pyplot as plt\n",
    "\n",
    "ax = sns.heatmap(cf_matrix, annot=True, cmap='Blues', fmt='.4g')\n",
    "\n",
    "ax.set_title('Matriz de Confusão de Classificador de Patch\\n\\n');\n",
    "ax.set_xlabel('\\nClasses Preditas')\n",
    "ax.set_ylabel('Classes Reais ');\n",
    "\n",
    "## Ticket labels - List must be in alphabetical order\n",
    "ax.xaxis.set_ticklabels(['Benigno','Maligno'])\n",
    "ax.yaxis.set_ticklabels(['Benigno','Maligno'])\n",
    "\n",
    "## Display the visualization of the Confusion Matrix.\n",
    "plt.show()"
   ]
  },
  {
   "cell_type": "code",
   "execution_count": null,
   "id": "0a5d9672",
   "metadata": {
    "execution": {
     "iopub.execute_input": "2022-12-04T02:01:02.410204Z",
     "iopub.status.busy": "2022-12-04T02:01:02.406967Z",
     "iopub.status.idle": "2022-12-04T02:01:02.413336Z",
     "shell.execute_reply": "2022-12-04T02:01:02.412627Z",
     "shell.execute_reply.started": "2022-12-04T01:11:34.204381Z"
    },
    "papermill": {
     "duration": 0.694574,
     "end_time": "2022-12-04T02:01:02.413494",
     "exception": false,
     "start_time": "2022-12-04T02:01:01.718920",
     "status": "completed"
    },
    "tags": []
   },
   "outputs": [],
   "source": [
    "import numpy as np\n",
    "from sklearn import metrics\n",
    "\n",
    "def get_auc(y, pred):\n",
    "    fpr, tpr, thresholds = metrics.roc_curve(y_true=y, y_score=pred, pos_label=1)\n",
    "    auc = metrics.auc(fpr, tpr)\n",
    "    print(auc)\n",
    "    return"
   ]
  },
  {
   "cell_type": "code",
   "execution_count": null,
   "id": "db6da53a",
   "metadata": {
    "execution": {
     "iopub.execute_input": "2022-12-04T02:01:03.783532Z",
     "iopub.status.busy": "2022-12-04T02:01:03.782608Z",
     "iopub.status.idle": "2022-12-04T02:02:27.366017Z",
     "shell.execute_reply": "2022-12-04T02:02:27.367068Z",
     "shell.execute_reply.started": "2022-12-04T01:11:34.216592Z"
    },
    "papermill": {
     "duration": 84.267951,
     "end_time": "2022-12-04T02:02:27.367421",
     "exception": false,
     "start_time": "2022-12-04T02:01:03.099470",
     "status": "completed"
    },
    "tags": []
   },
   "outputs": [],
   "source": [
    "print(\"Predicting\")\n",
    "ds_test = dataset\n",
    "pred = model.predict(ds_test)\n",
    "print(\"Getting probabilities\")\n",
    "use_pred = pred[:,1]\n",
    "print(\"Getting labels\")\n",
    "train_ds = ds_test.unbatch()\n",
    "labels = np.asarray(list(train_ds.map(lambda x, y: y)))\n",
    "print(\"Obtaining AUC\")\n",
    "get_auc(labels, use_pred)"
   ]
  },
  {
   "cell_type": "code",
   "execution_count": null,
   "id": "a46f1db8",
   "metadata": {
    "execution": {
     "iopub.execute_input": "2022-12-04T02:02:28.852409Z",
     "iopub.status.busy": "2022-12-04T02:02:28.847160Z",
     "iopub.status.idle": "2022-12-04T02:02:33.118701Z",
     "shell.execute_reply": "2022-12-04T02:02:33.116954Z",
     "shell.execute_reply.started": "2022-12-04T01:12:43.909498Z"
    },
    "papermill": {
     "duration": 5.026365,
     "end_time": "2022-12-04T02:02:33.119141",
     "exception": false,
     "start_time": "2022-12-04T02:02:28.092776",
     "status": "completed"
    },
    "tags": []
   },
   "outputs": [],
   "source": [
    "# Save model\n",
    "model.save(\"full_view_classifier_tpu_2304_1792_30ep.h5\")"
   ]
  },
  {
   "cell_type": "code",
   "execution_count": null,
   "id": "110d838a",
   "metadata": {
    "execution": {
     "iopub.execute_input": "2022-12-04T02:02:34.487626Z",
     "iopub.status.busy": "2022-12-04T02:02:34.482395Z",
     "iopub.status.idle": "2022-12-04T02:02:59.346397Z",
     "shell.execute_reply": "2022-12-04T02:02:59.345816Z",
     "shell.execute_reply.started": "2022-12-04T01:12:48.094657Z"
    },
    "papermill": {
     "duration": 25.56022,
     "end_time": "2022-12-04T02:02:59.346562",
     "exception": false,
     "start_time": "2022-12-04T02:02:33.786342",
     "status": "completed"
    },
    "tags": []
   },
   "outputs": [],
   "source": [
    "from tensorflow.keras.models import load_model\n",
    "with strategy.scope():\n",
    "    test_model = load_model(\"full_view_classifier_tpu_2304_1792_30ep.h5\")"
   ]
  },
  {
   "cell_type": "code",
   "execution_count": null,
   "id": "9dfe14cd",
   "metadata": {
    "execution": {
     "iopub.execute_input": "2022-12-04T02:03:00.673349Z",
     "iopub.status.busy": "2022-12-04T02:03:00.672334Z",
     "iopub.status.idle": "2022-12-04T02:03:18.895177Z",
     "shell.execute_reply": "2022-12-04T02:03:18.895799Z",
     "shell.execute_reply.started": "2022-12-04T01:13:10.869703Z"
    },
    "papermill": {
     "duration": 18.889965,
     "end_time": "2022-12-04T02:03:18.896033",
     "exception": false,
     "start_time": "2022-12-04T02:03:00.006068",
     "status": "completed"
    },
    "tags": []
   },
   "outputs": [],
   "source": [
    "dataset = get_test_dataset()\n",
    "score = test_model.evaluate(dataset)\n",
    "print('Test loss:', score[0])\n",
    "print('Test accuracy:', score[1])"
   ]
  },
  {
   "cell_type": "code",
   "execution_count": null,
   "id": "4a59b45e",
   "metadata": {
    "execution": {
     "iopub.execute_input": "2022-12-04T02:03:20.491072Z",
     "iopub.status.busy": "2022-12-04T02:03:20.490033Z",
     "iopub.status.idle": "2022-12-04T02:04:30.362525Z",
     "shell.execute_reply": "2022-12-04T02:04:30.361769Z",
     "shell.execute_reply.started": "2022-12-04T01:13:29.410502Z"
    },
    "papermill": {
     "duration": 70.648049,
     "end_time": "2022-12-04T02:04:30.362702",
     "exception": false,
     "start_time": "2022-12-04T02:03:19.714653",
     "status": "completed"
    },
    "tags": []
   },
   "outputs": [],
   "source": [
    "hits = 0\n",
    "last_acc_hit = 0\n",
    "dataset = dataset.unbatch().batch(BATCH_SIZE)\n",
    "batch = iter(dataset)\n",
    "NUM_BATCH = NUM_TEST_IMAGES//BATCH_SIZE\n",
    "# #NUM_BATCH = 5370//BATCH_SIZE\n",
    "cf_matrix = np.zeros([2,2])\n",
    "n_correct_batches = 0\n",
    "for i in range(NUM_BATCH):\n",
    "    last_acc_hit = hits\n",
    "    images, labels = next(batch)\n",
    "    probabilities = test_model.predict(images)\n",
    "    predictions = np.argmax(probabilities, axis=-1)\n",
    "    labels_np = labels.numpy().astype(np.int64)\n",
    "    print_batch = False\n",
    "    for i in range(BATCH_SIZE):\n",
    "        if(predictions[i] == labels_np[i]):\n",
    "            hits = hits + 1\n",
    "        else:\n",
    "            print_batch = True\n",
    "    if(print_batch):\n",
    "        print((hits-last_acc_hit)/BATCH_SIZE)\n",
    "    else:\n",
    "        n_correct_batches = n_correct_batches + 1\n",
    "    cf_batch_matrix = confusion_matrix(labels_np, predictions, labels=[0,1])\n",
    "    cf_matrix = cf_matrix + cf_batch_matrix\n",
    "    \n",
    "print(probabilities)\n",
    "print(\"Correct batches\")\n",
    "print(n_correct_batches)\n",
    "print(\"Accuracy\")\n",
    "print(hits/(NUM_BATCH*BATCH_SIZE))\n",
    "print(cf_matrix)\n",
    "data_visualization(cf_matrix)\n",
    "import seaborn as sns\n",
    "import matplotlib.pyplot as plt\n",
    "plt.figure(figsize=(5, 5))\n",
    "ax = sns.heatmap(cf_matrix, annot=True, cmap='Blues', fmt='.4g')\n",
    "\n",
    "ax.set_title('Matriz de Confusão de Classificador de Patch\\n\\n');\n",
    "ax.set_xlabel('\\nClasses Preditas')\n",
    "ax.set_ylabel('Classes Reais ');\n",
    "sns.set(font_scale=1.4)\n",
    "## Ticket labels - List must be in alphabetical order\n",
    "ax.xaxis.set_ticklabels(['Benigno','Maligno'])\n",
    "ax.yaxis.set_ticklabels(['Benigno','Maligno'])\n",
    "\n",
    "## Display the visualization of the Confusion Matrix.\n",
    "plt.show()"
   ]
  },
  {
   "cell_type": "code",
   "execution_count": null,
   "id": "3d790a76",
   "metadata": {
    "execution": {
     "iopub.execute_input": "2022-12-04T02:04:31.834628Z",
     "iopub.status.busy": "2022-12-04T02:04:31.833752Z",
     "iopub.status.idle": "2022-12-04T02:05:55.418223Z",
     "shell.execute_reply": "2022-12-04T02:05:55.418828Z",
     "shell.execute_reply.started": "2022-12-04T01:14:36.523217Z"
    },
    "papermill": {
     "duration": 84.307143,
     "end_time": "2022-12-04T02:05:55.419023",
     "exception": false,
     "start_time": "2022-12-04T02:04:31.111880",
     "status": "completed"
    },
    "tags": []
   },
   "outputs": [],
   "source": [
    "print(\"Predicting\")\n",
    "pred = test_model.predict(ds_test)\n",
    "print(\"Getting probabilities\")\n",
    "use_pred = pred[:,1]\n",
    "print(\"Getting labels\")\n",
    "train_ds = ds_test.unbatch()\n",
    "labels = np.asarray(list(train_ds.map(lambda x, y: y)))\n",
    "print(\"Obtaining AUC\")\n",
    "get_auc(labels, use_pred)"
   ]
  },
  {
   "cell_type": "markdown",
   "id": "f68d58a4",
   "metadata": {
    "papermill": {
     "duration": 0.718247,
     "end_time": "2022-12-04T02:05:56.851396",
     "exception": false,
     "start_time": "2022-12-04T02:05:56.133149",
     "status": "completed"
    },
    "tags": []
   },
   "source": [
    "<a href=\"./full_view_classifier_tpu_2304_1792_30ep.h5\"> Download Model </a>\n"
   ]
  }
 ],
 "metadata": {
  "kernelspec": {
   "display_name": "Python 3",
   "language": "python",
   "name": "python3"
  },
  "language_info": {
   "codemirror_mode": {
    "name": "ipython",
    "version": 3
   },
   "file_extension": ".py",
   "mimetype": "text/x-python",
   "name": "python",
   "nbconvert_exporter": "python",
   "pygments_lexer": "ipython3",
   "version": "3.7.10"
  },
  "papermill": {
   "default_parameters": {},
   "duration": 2738.325181,
   "end_time": "2022-12-04T02:06:00.526943",
   "environment_variables": {},
   "exception": null,
   "input_path": "__notebook__.ipynb",
   "output_path": "__notebook__.ipynb",
   "parameters": {},
   "start_time": "2022-12-04T01:20:22.201762",
   "version": "2.3.3"
  }
 },
 "nbformat": 4,
 "nbformat_minor": 5
}
